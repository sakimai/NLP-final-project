{
 "cells": [
  {
   "cell_type": "code",
   "execution_count": 1,
   "metadata": {},
   "outputs": [
    {
     "name": "stdout",
     "output_type": "stream",
     "text": [
      "T-test for BLEU1: t-stat=38.20338923434114, p-value=7.769076300302926e-214\n",
      "T-test for BLEU2: t-stat=31.49656754237305, p-value=9.484532291036645e-162\n",
      "T-test for BLEU3: t-stat=23.407601270752203, p-value=3.5226310522689355e-101\n",
      "T-test for BLEU4: t-stat=18.325182440099102, p-value=8.343230555248613e-67\n",
      "T-test for ROUGE: t-stat=37.57404349571618, p-value=6.0121834548362e-209\n",
      "T-test for BERT: t-stat=43.88361950947562, p-value=1.3748841932996678e-257\n",
      "T-test for BLEURT: t-stat=42.2688664121513, p-value=3.072201223883599e-245\n"
     ]
    }
   ],
   "source": [
    "import pandas as pd\n",
    "\n",
    "# Load data from CSV\n",
    "df = pd.read_csv(\"bt_score_data.csv\")\n",
    "\n",
    "# Example t-test between same and different BLEU1 scores\n",
    "from scipy.stats import ttest_ind\n",
    "\n",
    "t_stat, p_val = ttest_ind(df[\"same_index_bleu1\"].dropna(), df[\"different_index_bleu1\"].dropna())\n",
    "print(f\"T-test for BLEU1: t-stat={t_stat}, p-value={p_val}\")\n",
    "\n",
    "t_stat, p_val = ttest_ind(df[\"same_index_bleu2\"].dropna(), df[\"different_index_bleu2\"].dropna())\n",
    "print(f\"T-test for BLEU2: t-stat={t_stat}, p-value={p_val}\")\n",
    "\n",
    "t_stat, p_val = ttest_ind(df[\"same_index_bleu3\"].dropna(), df[\"different_index_bleu3\"].dropna())\n",
    "print(f\"T-test for BLEU3: t-stat={t_stat}, p-value={p_val}\")\n",
    "\n",
    "t_stat, p_val = ttest_ind(df[\"same_index_bleu4\"].dropna(), df[\"different_index_bleu4\"].dropna())\n",
    "print(f\"T-test for BLEU4: t-stat={t_stat}, p-value={p_val}\")\n",
    "\n",
    "t_stat, p_val = ttest_ind(df[\"same_index_rouge\"].dropna(), df[\"different_index_rouge\"].dropna())\n",
    "print(f\"T-test for ROUGE: t-stat={t_stat}, p-value={p_val}\")\n",
    "\n",
    "t_stat, p_val = ttest_ind(df[\"same_index_bert\"].dropna(), df[\"different_index_bert\"].dropna())\n",
    "print(f\"T-test for BERT: t-stat={t_stat}, p-value={p_val}\")\n",
    "\n",
    "t_stat, p_val = ttest_ind(df[\"same_index_bleurt\"].dropna(), df[\"different_index_bleurt\"].dropna())\n",
    "print(f\"T-test for BLEURT: t-stat={t_stat}, p-value={p_val}\")"
   ]
  },
  {
   "cell_type": "code",
   "execution_count": 2,
   "metadata": {},
   "outputs": [
    {
     "name": "stdout",
     "output_type": "stream",
     "text": [
      "T-test for SignScore: t-stat=70.40370253124706, p-value=0.0\n"
     ]
    }
   ],
   "source": [
    "import pandas as pd\n",
    "\n",
    "# Load data from CSV\n",
    "df = pd.read_csv(\"sign_score_data.csv\")\n",
    "\n",
    "# Example t-test between same and different BLEU1 scores\n",
    "from scipy.stats import ttest_ind\n",
    "\n",
    "t_stat, p_val = ttest_ind(df[\"same_scores_i2t\"].dropna(), df[\"different_scores_i2t\"].dropna())\n",
    "print(f\"T-test for SignScore: t-stat={t_stat}, p-value={p_val}\")"
   ]
  },
  {
   "cell_type": "code",
   "execution_count": 3,
   "metadata": {},
   "outputs": [
    {
     "name": "stdout",
     "output_type": "stream",
     "text": [
      "                                                refs  \\\n",
      "0  seine kaltfront erreicht morgen auch deutschla...   \n",
      "1  am tag halten sich über dem südosten dichte wo...   \n",
      "2  ein harscher wetterwechsel seit gestern sogar ...   \n",
      "3  an der luftmassengrenze kommt es zu teilweise ...   \n",
      "4  das kann ja manchmal ganz schön schnell gehen ...   \n",
      "\n",
      "                                                hyps same_indices  \\\n",
      "0  {'27August_2009_Thursday_tagesschau-3269', 'da...   (230, 230)   \n",
      "1  {'15December_2009_Tuesday_tagesschau-6963', 'i...   (513, 513)   \n",
      "2  {'die wetterlage stellt sich jetzt um es gelte...   (209, 209)   \n",
      "3  {'13July_2009_Monday_tagesschau-7509', 'im ber...   (549, 549)   \n",
      "4  {'der start in die neue woche sieht noch nicht...   (472, 472)   \n",
      "\n",
      "  random_indices_x  same_index_bleu1  different_index_bleu1  same_index_bleu2  \\\n",
      "0       [348, 501]          5.555556               3.344359               0.0   \n",
      "1        [53, 137]          6.107097              21.428571               0.0   \n",
      "2       [393, 501]          7.142857              12.101103               0.0   \n",
      "3       [581, 454]          7.961459               8.333333               0.0   \n",
      "4       [176, 599]          8.333333              16.666667               0.0   \n",
      "\n",
      "   different_index_bleu2  same_index_bleu3  different_index_bleu3  \\\n",
      "0                    0.0               0.0                    0.0   \n",
      "1                    0.0               0.0                    0.0   \n",
      "2                    0.0               0.0                    0.0   \n",
      "3                    0.0               0.0                    0.0   \n",
      "4                    0.0               0.0                    0.0   \n",
      "\n",
      "   same_index_bleu4  different_index_bleu4  same_index_rouge  \\\n",
      "0               0.0                    0.0          6.172840   \n",
      "1               0.0                    0.0          6.753536   \n",
      "2               0.0                    0.0          7.975813   \n",
      "3               0.0                    0.0          9.157509   \n",
      "4               0.0                    0.0          8.810916   \n",
      "\n",
      "   different_index_rouge  average_bleu_rouge  \\\n",
      "0               5.050505            2.345679   \n",
      "1              22.808587            2.572127   \n",
      "2              10.155317            3.023734   \n",
      "3               8.662962            3.423794   \n",
      "4              16.666667            3.428850   \n",
      "\n",
      "                                            text_ids random_indices_y  \\\n",
      "0  His cold front will also reach Germany, includ...       [348, 501]   \n",
      "1  During the day, dense clouds stay from the sou...        [53, 137]   \n",
      "2  A tough weather change since yesterday even wi...       [393, 501]   \n",
      "3  At the air mass border there are partially hea...       [581, 454]   \n",
      "4  Sometimes that can go very quickly so whether ...       [176, 599]   \n",
      "\n",
      "   sign_scores  different_scores_i2t  \n",
      "0    39.086402             22.914677  \n",
      "1    60.042603             38.554067  \n",
      "2    56.969635             29.971307  \n",
      "3    61.905088             32.644969  \n",
      "4    61.599354             18.778224  \n"
     ]
    }
   ],
   "source": [
    "import pandas as pd\n",
    "\n",
    "# Load the data\n",
    "df = pd.read_csv(\"bt_score_data.csv\")\n",
    "df2 = pd.read_csv(\"sign_score_data.csv\")\n",
    "\n",
    "# Extract sign scores\n",
    "df2 = df2.rename(columns={\"same_scores_i2t\": \"sign_scores\"})  # Rename for clarity\n",
    "\n",
    "# Calculate the average of the BLEU and ROUGE scores for each row\n",
    "df[\"average_bleu_rouge\"] = df[[\"same_index_bleu1\", \"same_index_bleu2\", \n",
    "                               \"same_index_bleu3\", \"same_index_bleu4\", \n",
    "                               \"same_index_rouge\"]].mean(axis=1)\n",
    "\n",
    "# Sort the dataframe by the average scores in ascending order\n",
    "df_sorted = df.sort_values(by=\"average_bleu_rouge\")\n",
    "\n",
    "# Select cases with the minimum average scores\n",
    "min_threshold = df[\"average_bleu_rouge\"].quantile(0.01)  # Bottom 2%\n",
    "low_score_cases = df_sorted[df_sorted[\"average_bleu_rouge\"] <= min_threshold]\n",
    "\n",
    "# Match low_score_cases with df2 using the \"same_indices\" column\n",
    "# Assuming both dataframes have a \"same_indices\" column\n",
    "matched_cases = low_score_cases.merge(df2, on=\"same_indices\", how=\"inner\")\n",
    "\n",
    "# Save or display the matched cases\n",
    "matched_cases.to_csv(\"matched_low_score_cases.csv\", index=False)\n",
    "print(matched_cases.head())"
   ]
  },
  {
   "cell_type": "code",
   "execution_count": null,
   "metadata": {},
   "outputs": [],
   "source": []
  }
 ],
 "metadata": {
  "kernelspec": {
   "display_name": "cico",
   "language": "python",
   "name": "python3"
  },
  "language_info": {
   "codemirror_mode": {
    "name": "ipython",
    "version": 3
   },
   "file_extension": ".py",
   "mimetype": "text/x-python",
   "name": "python",
   "nbconvert_exporter": "python",
   "pygments_lexer": "ipython3",
   "version": "3.10.13"
  },
  "orig_nbformat": 4
 },
 "nbformat": 4,
 "nbformat_minor": 2
}
